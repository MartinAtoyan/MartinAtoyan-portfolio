{
  "cells": [
    {
      "cell_type": "markdown",
      "metadata": {
        "id": "view-in-github",
        "colab_type": "text"
      },
      "source": [
        "<a href=\"https://colab.research.google.com/github/MartinAtoyan/MartinAtoyan-portfolio/blob/main/License_plate_detection.ipynb\" target=\"_parent\"><img src=\"https://colab.research.google.com/assets/colab-badge.svg\" alt=\"Open In Colab\"/></a>"
      ]
    },
    {
      "cell_type": "markdown",
      "metadata": {
        "id": "sXgIxTWNfQf2"
      },
      "source": [
        "# License Plate Detection using OpenCV and EasyOCR\n",
        "This notebook detects license plates in images using OpenCV's Haar cascades and extracts text using EasyOCR."
      ]
    },
    {
      "cell_type": "code",
      "execution_count": null,
      "metadata": {
        "id": "install_deps"
      },
      "outputs": [],
      "source": [
        "!pip install opencv-python imutils easyocr python-dotenv"
      ]
    },
    {
      "cell_type": "code",
      "execution_count": null,
      "metadata": {
        "id": "import_libraries"
      },
      "outputs": [],
      "source": [
        "import os\n",
        "import cv2\n",
        "import numpy as np\n",
        "import imutils\n",
        "import easyocr\n",
        "from dotenv import load_dotenv\n",
        "\n",
        "# Load environment variables\n",
        "load_dotenv()\n",
        "\n",
        "# Get paths from .env\n",
        "cascade_ref = os.environ.get(\"CASCADE\")\n",
        "images = os.environ.get(\"IMAGES\")\n"
      ]
    },
    {
      "cell_type": "code",
      "execution_count": null,
      "metadata": {
        "id": "process_images"
      },
      "outputs": [],
      "source": [
        "# Load Haar Cascade Classifier, cascade_ref is a pretrained Cascade model that detecting license plates.\n",
        "cascade = cv2.CascadeClassifier(cascade_ref)\n",
        "\n",
        "for image_dir in os.listdir(images):\n",
        "\n",
        "    image_path = os.path.join(images, image_dir)\n",
        "    # Read image\n",
        "    image = cv2.imread(image_path)\n",
        "    # Resize image\n",
        "    image = imutils.resize(image, width=500)\n",
        "    # Convert image to grayscale for better detection\n",
        "    gray_image = cv2.cvtColor(image, cv2.COLOR_BGR2GRAY)\n",
        "\n",
        "    # Detect plates with cascade\n",
        "    # scalefactor control how much image is resized, each step of process\n",
        "    # minNeighbors its a minimum rectangles for the same image/object.\n",
        "    # It help to cancel false detections.\n",
        "    plates = cascade.detectMultiScale(\n",
        "        gray_image, scaleFactor=1.1, minNeighbors=5)\n",
        "\n",
        "    # This loop iterates over the list plates, which contains\n",
        "    # the coordinates of the detected license plates.\n",
        "    # x, y coordinates upper left point of plate\n",
        "    # w, h - width and height of plate\n",
        "    for x, y, w, h in plates:\n",
        "        # Create rectangle out of detected plate\n",
        "        # x+w, y+w buttom right point of plate\n",
        "        # (0, 255, 0) - color of rectangle\n",
        "        # 2 - tickness of rectangle\n",
        "        cv2.rectangle(image, (x, y), (x + w, y + h), (0, 255, 0), 2)\n",
        "        # Crop out the license plate area from image\n",
        "        gray_plate = gray_image[y:y + h, x:x + w]\n",
        "\n",
        "        # This function improves the contrast of the characters on the plate\n",
        "        # 255 - maximum values of brightness for white pixels\n",
        "        # cv2.ADAPTIVE_THRESH_GAUSSIAN_C - threshold calculation method\n",
        "        # cv2.THRESH_BINARY - threshold processing type, pixels upper the\n",
        "        # treshold become white, the rest become black\n",
        "        # 11 - size of block, area around each pixel for calculating local threshold\n",
        "        # 2 – constant, reduces background brightness\n",
        "        processed = cv2.adaptiveThreshold(\n",
        "            gray_plate, 255, cv2.ADAPTIVE_THRESH_GAUSSIAN_C,\n",
        "            cv2.THRESH_BINARY, 11, 2)\n",
        "\n",
        "        # This function make a blur in image for reducing noises\n",
        "        # (5, 5) - size of bluring, parameter must be odd\n",
        "        # 1 - standart tone of bluring\n",
        "        processed = cv2.GaussianBlur(processed, (5, 5), 1)\n",
        "\n",
        "        # This function increase image size by 2\n",
        "        # None - isn't new specific resolution\n",
        "        # fx=2 - OX * 2\n",
        "        # fy=2 - OY * 2\n",
        "        processed = cv2.resize(processed, None, fx=2, fy=2)\n",
        "\n",
        "        # Read the plate with english symbols\n",
        "        reader = easyocr.Reader(['en'])\n",
        "        plate_str = reader.readtext(processed)\n",
        "\n",
        "        if plate_str:\n",
        "            print(f'Detected Plate: {plate_str[0][1]}')\n",
        "\n",
        "        # Show results\n",
        "        cv2.imshow('Detected Plate', processed)\n",
        "        cv2.imshow('Original Image', image)\n",
        "        cv2.waitKey(0)\n",
        "\n",
        "cv2.destroyAllWindows()"
      ]
    },
    {
      "cell_type": "markdown",
      "source": [
        "Sources\n",
        "\n",
        "https://www.tutorialspoint.com/how-to-detect-license-plates-using-opencv-python\n",
        "\n",
        "https://github.com/Maleehak/Car-number-plate-recognition-using-OpenCV\n",
        "\n",
        "https://medium.com/augmented-startups/automatic-number-plate-recognition-with-easy-ocr-and-open-cv-6d121384cdc7\n",
        "\n",
        "https://www.youtube.com/watch?v=73REqZM1Fy0"
      ],
      "metadata": {
        "id": "_HUxDMa6f4Qm"
      }
    },
    {
      "cell_type": "code",
      "source": [
        ".env.example\n",
        "CASCADE='app\\haarcascade_russian_plate_number.xml'\n",
        "IMAGES='app\\images'"
      ],
      "metadata": {
        "id": "LVLad6QhgOdz"
      },
      "execution_count": null,
      "outputs": []
    }
  ],
  "metadata": {
    "kernelspec": {
      "display_name": "Python 3",
      "language": "python",
      "name": "python3"
    },
    "language_info": {
      "codemirror_mode": {
        "name": "ipython",
        "version": 3
      },
      "file_extension": ".py",
      "mimetype": "text/x-python",
      "name": "python",
      "nbconvert_exporter": "python",
      "pygments_lexer": "ipython3",
      "version": "3.8.10"
    },
    "colab": {
      "provenance": [],
      "include_colab_link": true
    }
  },
  "nbformat": 4,
  "nbformat_minor": 0
}